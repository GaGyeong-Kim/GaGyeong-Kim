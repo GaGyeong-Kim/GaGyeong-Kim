{
  "nbformat": 4,
  "nbformat_minor": 0,
  "metadata": {
    "colab": {
      "provenance": [],
      "authorship_tag": "ABX9TyPq7CbCLdqvMUqQo5ktebNk",
      "include_colab_link": true
    },
    "kernelspec": {
      "name": "python3",
      "display_name": "Python 3"
    },
    "language_info": {
      "name": "python"
    }
  },
  "cells": [
    {
      "cell_type": "markdown",
      "metadata": {
        "id": "view-in-github",
        "colab_type": "text"
      },
      "source": [
        "<a href=\"https://colab.research.google.com/github/GaGyeong-Kim/GaGyeong-Kim/blob/main/sparkRDD.ipynb\" target=\"_parent\"><img src=\"https://colab.research.google.com/assets/colab-badge.svg\" alt=\"Open In Colab\"/></a>"
      ]
    },
    {
      "cell_type": "code",
      "execution_count": 1,
      "metadata": {
        "id": "rlht_A5GnQWq",
        "colab": {
          "base_uri": "https://localhost:8080/"
        },
        "outputId": "fcae9b77-7da6-4e6b-9995-bbfa3300fb5d"
      },
      "outputs": [
        {
          "output_type": "stream",
          "name": "stdout",
          "text": [
            "Mounted at ./mount\n"
          ]
        }
      ],
      "source": [
        "# mount Drive to access data files\n",
        "\n",
        "from google.colab import drive\n",
        "drive.mount('./mount')"
      ]
    },
    {
      "cell_type": "code",
      "source": [
        "pip install pyspark"
      ],
      "metadata": {
        "colab": {
          "base_uri": "https://localhost:8080/"
        },
        "id": "BuFsrheeoD43",
        "outputId": "5d3fc10c-4db2-495c-c1fa-3a6d1bc95b16"
      },
      "execution_count": 2,
      "outputs": [
        {
          "output_type": "stream",
          "name": "stdout",
          "text": [
            "Looking in indexes: https://pypi.org/simple, https://us-python.pkg.dev/colab-wheels/public/simple/\n",
            "Collecting pyspark\n",
            "  Downloading pyspark-3.3.0.tar.gz (281.3 MB)\n",
            "\u001b[K     |████████████████████████████████| 281.3 MB 51 kB/s \n",
            "\u001b[?25hCollecting py4j==0.10.9.5\n",
            "  Downloading py4j-0.10.9.5-py2.py3-none-any.whl (199 kB)\n",
            "\u001b[K     |████████████████████████████████| 199 kB 61.6 MB/s \n",
            "\u001b[?25hBuilding wheels for collected packages: pyspark\n",
            "  Building wheel for pyspark (setup.py) ... \u001b[?25l\u001b[?25hdone\n",
            "  Created wheel for pyspark: filename=pyspark-3.3.0-py2.py3-none-any.whl size=281764026 sha256=d352948c1211e471a194667718f3a390793456af0f028047ec256e5d7a4b4c64\n",
            "  Stored in directory: /root/.cache/pip/wheels/7a/8e/1b/f73a52650d2e5f337708d9f6a1750d451a7349a867f928b885\n",
            "Successfully built pyspark\n",
            "Installing collected packages: py4j, pyspark\n",
            "Successfully installed py4j-0.10.9.5 pyspark-3.3.0\n"
          ]
        }
      ]
    },
    {
      "cell_type": "code",
      "source": [
        "from pyspark import SparkConf, SparkContext\n",
        "\n",
        "# SparkContext 초기화\n",
        "conf = SparkConf().setMaster(\"local\").setAppName(\"transformations_actions\")\n",
        "# 객체 생성\n",
        "sc = SparkContext(conf = conf)"
      ],
      "metadata": {
        "id": "ZKy1lNlcoHI7"
      },
      "execution_count": 4,
      "outputs": []
    },
    {
      "cell_type": "code",
      "source": [
        "# RDD 생성\n",
        "foods = sc.parallelize([\"짜장면\",\"마라탕\",\"짬뽕\",\"떡볶이\",\"쌀국수\",\"짬뽕\",\"짜장면\",\"짜장면\",\"짜장면\",\"라면\",\"우동\",\"라면\"])"
      ],
      "metadata": {
        "id": "g8J9i6WMoZBk"
      },
      "execution_count": 5,
      "outputs": []
    },
    {
      "cell_type": "code",
      "source": [
        "foods.collect()"
      ],
      "metadata": {
        "colab": {
          "base_uri": "https://localhost:8080/"
        },
        "id": "-outOI5wobp2",
        "outputId": "88c874b8-e3af-40cd-8e13-81e12e230bae"
      },
      "execution_count": 7,
      "outputs": [
        {
          "output_type": "execute_result",
          "data": {
            "text/plain": [
              "['짜장면', '마라탕', '짬뽕', '떡볶이', '쌀국수', '짬뽕', '짜장면', '짜장면', '짜장면', '라면', '우동', '라면']"
            ]
          },
          "metadata": {},
          "execution_count": 7
        }
      ]
    },
    {
      "cell_type": "code",
      "source": [
        "foods.countByValue()"
      ],
      "metadata": {
        "colab": {
          "base_uri": "https://localhost:8080/"
        },
        "id": "CmLI0_WYoeCs",
        "outputId": "256f01be-1c76-4fc4-9935-09b4d87046e4"
      },
      "execution_count": 8,
      "outputs": [
        {
          "output_type": "execute_result",
          "data": {
            "text/plain": [
              "defaultdict(int,\n",
              "            {'짜장면': 4,\n",
              "             '마라탕': 1,\n",
              "             '짬뽕': 2,\n",
              "             '떡볶이': 1,\n",
              "             '쌀국수': 1,\n",
              "             '라면': 2,\n",
              "             '우동': 1})"
            ]
          },
          "metadata": {},
          "execution_count": 8
        }
      ]
    },
    {
      "cell_type": "code",
      "source": [
        "foods.take(3)\n",
        "foods.take(5)"
      ],
      "metadata": {
        "colab": {
          "base_uri": "https://localhost:8080/"
        },
        "id": "o_7WkJiOojE4",
        "outputId": "8ecec537-73cb-40f4-f38f-dd4582edbd44"
      },
      "execution_count": 10,
      "outputs": [
        {
          "output_type": "execute_result",
          "data": {
            "text/plain": [
              "['짜장면', '마라탕', '짬뽕', '떡볶이', '쌀국수']"
            ]
          },
          "metadata": {},
          "execution_count": 10
        }
      ]
    },
    {
      "cell_type": "code",
      "source": [
        "foods.first()"
      ],
      "metadata": {
        "colab": {
          "base_uri": "https://localhost:8080/",
          "height": 35
        },
        "id": "mh_CvQGCopNn",
        "outputId": "d0ac13c8-e67a-4af3-b707-3e5c77e12198"
      },
      "execution_count": 11,
      "outputs": [
        {
          "output_type": "execute_result",
          "data": {
            "text/plain": [
              "'짜장면'"
            ],
            "application/vnd.google.colaboratory.intrinsic+json": {
              "type": "string"
            }
          },
          "metadata": {},
          "execution_count": 11
        }
      ]
    },
    {
      "cell_type": "code",
      "source": [
        "foods.count()"
      ],
      "metadata": {
        "colab": {
          "base_uri": "https://localhost:8080/"
        },
        "id": "6AANGAvXosRn",
        "outputId": "80e658ff-03f6-4e90-eabc-6eb0b37683ef"
      },
      "execution_count": 14,
      "outputs": [
        {
          "output_type": "execute_result",
          "data": {
            "text/plain": [
              "12"
            ]
          },
          "metadata": {},
          "execution_count": 14
        }
      ]
    },
    {
      "cell_type": "code",
      "source": [
        "foods.distinct().count()"
      ],
      "metadata": {
        "colab": {
          "base_uri": "https://localhost:8080/"
        },
        "id": "NfZsu5ZpotRK",
        "outputId": "b151e0e2-e754-44f5-d1cd-edbf34e2d444"
      },
      "execution_count": 15,
      "outputs": [
        {
          "output_type": "execute_result",
          "data": {
            "text/plain": [
              "7"
            ]
          },
          "metadata": {},
          "execution_count": 15
        }
      ]
    },
    {
      "cell_type": "code",
      "source": [
        "# Native Data 타입=>Actions의 결과, int\n",
        "print(type(foods.count()))\n",
        "print(type(foods.distinct().count()))\n",
        "\n",
        "# RDD타입 => Transformations의 결과\n",
        "print(type(foods.distinct()))"
      ],
      "metadata": {
        "colab": {
          "base_uri": "https://localhost:8080/"
        },
        "id": "2Ih2uITooxMV",
        "outputId": "6ae1fb10-da47-4c48-ad15-0f5a7780d81e"
      },
      "execution_count": 16,
      "outputs": [
        {
          "output_type": "stream",
          "name": "stdout",
          "text": [
            "<class 'int'>\n",
            "<class 'int'>\n",
            "<class 'pyspark.rdd.PipelinedRDD'>\n"
          ]
        }
      ]
    },
    {
      "cell_type": "code",
      "source": [
        "# 값 리턴을 하지 않음\n",
        "# Worker node에서 실행됨\n",
        "# 현재 SparkContext가 있는 Driver Program에 있기 때문에 실행 안됨\n",
        "foods.foreach(lambda x:print(x))"
      ],
      "metadata": {
        "id": "b1hB8qgEo0r3"
      },
      "execution_count": 17,
      "outputs": []
    },
    {
      "cell_type": "code",
      "source": [
        "# movie RDD 생성\n",
        "movies =[\n",
        "\t\"그린 북\",\n",
        "\t\"매트릭스\",\n",
        "\t\"토이 스토리\",\n",
        "\t\"캐스트 어웨이\",\n",
        "\t\"포드 V 페라리\",\n",
        "\t\"보헤미안 랩소디\",\n",
        "\t\"빽 투 더 퓨처\",\n",
        "\t\"반지의 제왕\",\n",
        "\t\"죽은 시인의 사회\"\n",
        "]\n",
        "\n",
        "moviesRDD = sc.parallelize(movies)"
      ],
      "metadata": {
        "id": "AazAWJjQo1yG"
      },
      "execution_count": 18,
      "outputs": []
    },
    {
      "cell_type": "code",
      "source": [
        "flatMovies = moviesRDD.flatMap(lambda x : x.split(\" \"))\n",
        "flatMovies.collect()"
      ],
      "metadata": {
        "colab": {
          "base_uri": "https://localhost:8080/"
        },
        "id": "u3HQjkBlo45C",
        "outputId": "44a81fac-ff49-41a9-e907-84bb9ed985fd"
      },
      "execution_count": 19,
      "outputs": [
        {
          "output_type": "execute_result",
          "data": {
            "text/plain": [
              "['그린',\n",
              " '북',\n",
              " '매트릭스',\n",
              " '토이',\n",
              " '스토리',\n",
              " '캐스트',\n",
              " '어웨이',\n",
              " '포드',\n",
              " 'V',\n",
              " '페라리',\n",
              " '보헤미안',\n",
              " '랩소디',\n",
              " '빽',\n",
              " '투',\n",
              " '더',\n",
              " '퓨처',\n",
              " '반지의',\n",
              " '제왕',\n",
              " '죽은',\n",
              " '시인의',\n",
              " '사회']"
            ]
          },
          "metadata": {},
          "execution_count": 19
        }
      ]
    },
    {
      "cell_type": "code",
      "source": [
        "filteredMovies = moviesRDD.filter(lambda x : x!=\"매트릭스\")\n",
        "filteredMovies.collect()"
      ],
      "metadata": {
        "colab": {
          "base_uri": "https://localhost:8080/"
        },
        "id": "cHso_4G1o6UY",
        "outputId": "69d5191a-edde-4525-9f1e-277818fa4673"
      },
      "execution_count": 20,
      "outputs": [
        {
          "output_type": "execute_result",
          "data": {
            "text/plain": [
              "['그린 북',\n",
              " '토이 스토리',\n",
              " '캐스트 어웨이',\n",
              " '포드 V 페라리',\n",
              " '보헤미안 랩소디',\n",
              " '빽 투 더 퓨처',\n",
              " '반지의 제왕',\n",
              " '죽은 시인의 사회']"
            ]
          },
          "metadata": {},
          "execution_count": 20
        }
      ]
    },
    {
      "cell_type": "code",
      "source": [
        "# RDD 생성\n",
        "num1 = sc.parallelize([1,2,3,4,5])\n",
        "num2 = sc.parallelize([4,5,6,7,8,9,10])"
      ],
      "metadata": {
        "id": "9JEtNSDWo95_"
      },
      "execution_count": 21,
      "outputs": []
    },
    {
      "cell_type": "code",
      "source": [
        "num1.union(num2).collect()"
      ],
      "metadata": {
        "colab": {
          "base_uri": "https://localhost:8080/"
        },
        "id": "O22DQ3OypDS7",
        "outputId": "7dacff27-e655-4c79-e91e-ec2e610e3be8"
      },
      "execution_count": 22,
      "outputs": [
        {
          "output_type": "execute_result",
          "data": {
            "text/plain": [
              "[1, 2, 3, 4, 5, 4, 5, 6, 7, 8, 9, 10]"
            ]
          },
          "metadata": {},
          "execution_count": 22
        }
      ]
    },
    {
      "cell_type": "code",
      "source": [
        "num1.subtract(num2).collect()"
      ],
      "metadata": {
        "colab": {
          "base_uri": "https://localhost:8080/"
        },
        "id": "JBrl5TIFpFSF",
        "outputId": "47ef72bb-a036-4e98-e5f0-b470749c0933"
      },
      "execution_count": 23,
      "outputs": [
        {
          "output_type": "execute_result",
          "data": {
            "text/plain": [
              "[2, 1, 3]"
            ]
          },
          "metadata": {},
          "execution_count": 23
        }
      ]
    },
    {
      "cell_type": "code",
      "source": [
        "numUnion = num1.union(num2)\n",
        "numUnion.sample(True, .5, seed=2).collect()"
      ],
      "metadata": {
        "colab": {
          "base_uri": "https://localhost:8080/"
        },
        "id": "9rMjb0a7pKQm",
        "outputId": "4682a272-1ab5-4e61-cd90-4e0248175373"
      },
      "execution_count": 24,
      "outputs": [
        {
          "output_type": "execute_result",
          "data": {
            "text/plain": [
              "[1, 1, 2, 4, 5, 5, 4, 5, 6, 7, 9]"
            ]
          },
          "metadata": {},
          "execution_count": 24
        }
      ]
    },
    {
      "cell_type": "code",
      "source": [
        "# RDD 생성\n",
        "rdd1 = sc.parallelize(['안녕 보아즈', 'BOAZ', '스파크', '엔지니어링 화이팅'])\n",
        "\n",
        "print(rdd1.map(lambda x:x.split(' ')).collect())\n",
        "\n",
        "# 1차원 반환\n",
        "print(rdd1.flatMap(lambda x:x.split(' ')).collect())"
      ],
      "metadata": {
        "colab": {
          "base_uri": "https://localhost:8080/"
        },
        "id": "iftaV4REpMLA",
        "outputId": "16a68b92-d7e6-40da-eb65-b66305cbbec3"
      },
      "execution_count": 25,
      "outputs": [
        {
          "output_type": "stream",
          "name": "stdout",
          "text": [
            "[['안녕', '보아즈'], ['BOAZ'], ['스파크'], ['엔지니어링', '화이팅']]\n",
            "['안녕', '보아즈', 'BOAZ', '스파크', '엔지니어링', '화이팅']\n"
          ]
        }
      ]
    },
    {
      "cell_type": "code",
      "source": [
        "foodsGroup = foods.groupBy(lambda x : x[0])\n",
        "res = foodsGroup.collect()"
      ],
      "metadata": {
        "id": "S3oZhQGlpPcV"
      },
      "execution_count": 26,
      "outputs": []
    },
    {
      "cell_type": "code",
      "source": [
        "for (k,v) in res:\n",
        "  print(k, list(v))"
      ],
      "metadata": {
        "colab": {
          "base_uri": "https://localhost:8080/"
        },
        "id": "gYuOMvRepTo3",
        "outputId": "537dcfa5-4ee6-449d-cbe3-2b18e511614f"
      },
      "execution_count": 27,
      "outputs": [
        {
          "output_type": "stream",
          "name": "stdout",
          "text": [
            "짜 ['짜장면', '짜장면', '짜장면', '짜장면']\n",
            "마 ['마라탕']\n",
            "짬 ['짬뽕', '짬뽕']\n",
            "떡 ['떡볶이']\n",
            "쌀 ['쌀국수']\n",
            "라 ['라면', '라면']\n",
            "우 ['우동']\n"
          ]
        }
      ]
    },
    {
      "cell_type": "code",
      "source": [
        "num1.intersection(num2).collect()"
      ],
      "metadata": {
        "colab": {
          "base_uri": "https://localhost:8080/"
        },
        "id": "dc4APPFTpV60",
        "outputId": "aa70d0de-b5cd-47ba-9258-3e3a30468378"
      },
      "execution_count": 28,
      "outputs": [
        {
          "output_type": "execute_result",
          "data": {
            "text/plain": [
              "[4, 5]"
            ]
          },
          "metadata": {},
          "execution_count": 28
        }
      ]
    },
    {
      "cell_type": "code",
      "source": [
        "from operator import add\n",
        "\n",
        "print(sc.parallelize([1,2,3,4,5]).reduce(add))\n",
        "\n",
        "\n",
        "# 파티션에 따라 결과값이 달라지기도 함\n",
        "\n",
        "# 파티션 1개\n",
        "print(sc.parallelize([1,2,3,4],1).reduce(lambda x,y : (x*2)+y))\n",
        "# 파티션 2개\n",
        "print(sc.parallelize([1,2,3,4],2).reduce(lambda x,y : (x*2)+y))"
      ],
      "metadata": {
        "colab": {
          "base_uri": "https://localhost:8080/"
        },
        "id": "WwE3Xq4-pdor",
        "outputId": "f1a854bb-e9a7-4bb5-e3b2-998dc52e8488"
      },
      "execution_count": 29,
      "outputs": [
        {
          "output_type": "stream",
          "name": "stdout",
          "text": [
            "15\n",
            "26\n",
            "18\n"
          ]
        }
      ]
    },
    {
      "cell_type": "code",
      "source": [
        "# 파티션이 4개인 RDD -> 값이 3가지라 하나의 빈 파티션이 발생\n",
        "rdd = sc.parallelize([2,3,4],4)\n",
        "\n",
        "# 24 = 2*3*4\n",
        "print(rdd.reduce(lambda x,y : x*y))\n",
        "\n",
        "# zeroValue값이 0\n",
        "# 0 = 0*2*3*4\n",
        "print(rdd.fold(0, lambda x,y : x*y))\n",
        "\n",
        "# 24 = 1*2*3*4\n",
        "print(rdd.fold(1, lambda x,y:x*y))"
      ],
      "metadata": {
        "colab": {
          "base_uri": "https://localhost:8080/"
        },
        "id": "bMjpRIj3p7nH",
        "outputId": "790f44c1-2b3d-4cb3-9d46-10202cef68b5"
      },
      "execution_count": 30,
      "outputs": [
        {
          "output_type": "stream",
          "name": "stdout",
          "text": [
            "24\n",
            "0\n",
            "24\n"
          ]
        }
      ]
    },
    {
      "cell_type": "code",
      "source": [
        "rdd = sc.parallelize([1,1,2,3,5,8])\n",
        "result = rdd.groupBy(lambda x : x%2).collect()\n",
        "\n",
        "# 결과\n",
        "sorted([(x, sorted(y)) for (x,y) in result])"
      ],
      "metadata": {
        "colab": {
          "base_uri": "https://localhost:8080/"
        },
        "id": "tyhyEgiIp-kB",
        "outputId": "1216892d-afdb-4a47-efe1-c3817a476cec"
      },
      "execution_count": 31,
      "outputs": [
        {
          "output_type": "execute_result",
          "data": {
            "text/plain": [
              "[(0, [2, 8]), (1, [1, 1, 3, 5])]"
            ]
          },
          "metadata": {},
          "execution_count": 31
        }
      ]
    },
    {
      "cell_type": "code",
      "source": [
        "seqOp = (lambda x,y:(x[0] + y, x[1] + 1))\n",
        "combOp = (lambda x,y:(x[0] + y[0], x[1] + y[1]))\n",
        "sc.parallelize([1,2,3,4]).aggregate((0,0), seqOp, combOp)"
      ],
      "metadata": {
        "colab": {
          "base_uri": "https://localhost:8080/"
        },
        "id": "ecBDDOzWqBa_",
        "outputId": "64bd629a-4112-4dc3-b57d-386efc756010"
      },
      "execution_count": 32,
      "outputs": [
        {
          "output_type": "execute_result",
          "data": {
            "text/plain": [
              "(10, 4)"
            ]
          },
          "metadata": {},
          "execution_count": 32
        }
      ]
    },
    {
      "cell_type": "code",
      "source": [
        "x = sc.parallelize([(\"MATH\",7),(\"MATH\",),(\"ENGLISH\",7),(\"SCIENCE\",7),(\"ENGLISH\",4),(\"ENGLISH\",9),\n",
        "(\"MATH\",8),(\"MATH\",3),(\"ENGLISH\",4),(\"SCIENCE\",6),(\"SCIENCE\",9),(\"SCIENCE\",5)], 3)\n",
        "\n",
        "y = x.groupByKey()\n",
        "\n",
        "print(y.getNumPartitions())"
      ],
      "metadata": {
        "colab": {
          "base_uri": "https://localhost:8080/"
        },
        "id": "lXV-Lp6fq4Lq",
        "outputId": "7ac5a770-4b76-471c-c90e-59a119912d94"
      },
      "execution_count": 33,
      "outputs": [
        {
          "output_type": "stream",
          "name": "stdout",
          "text": [
            "3\n"
          ]
        }
      ]
    },
    {
      "cell_type": "code",
      "source": [
        "y = x.groupByKey(2)\n",
        "print(y.getNumPartitions())"
      ],
      "metadata": {
        "colab": {
          "base_uri": "https://localhost:8080/"
        },
        "id": "j8sbPIo7rBps",
        "outputId": "271898ca-8193-4c35-b272-57ed8a017f1f"
      },
      "execution_count": 34,
      "outputs": [
        {
          "output_type": "stream",
          "name": "stdout",
          "text": [
            "2\n"
          ]
        }
      ]
    },
    {
      "cell_type": "code",
      "source": [
        "from operator import add, mul\n",
        "\n",
        "\n",
        "rdd = sc.parallelize([(\"BOAZ\",2),(\"ENGINEERING\",3),(\"BOAZ\",5)])\n",
        "print(sorted(rdd.reduceByKey(add).collect()))\n",
        "print(sorted(rdd.reduceByKey(mul).collect()))"
      ],
      "metadata": {
        "colab": {
          "base_uri": "https://localhost:8080/"
        },
        "id": "t6QIEXnJrGeG",
        "outputId": "ba974482-250a-4510-e475-bed9b9ab9cef"
      },
      "execution_count": 35,
      "outputs": [
        {
          "output_type": "stream",
          "name": "stdout",
          "text": [
            "[('BOAZ', 7), ('ENGINEERING', 3)]\n",
            "[('BOAZ', 10), ('ENGINEERING', 3)]\n"
          ]
        }
      ]
    },
    {
      "cell_type": "code",
      "source": [
        "x = sc.parallelize([(\"a\", [\"HELLO\",\"BOAZ\",\"WELCOME\"]), (\"b\", [\"ENGINEERING\"])])\n",
        "\n",
        "def f(x) : return len(x)\n",
        "\n",
        "# 리스트의 길이 리턴\n",
        "x.mapValues(f).collect()"
      ],
      "metadata": {
        "colab": {
          "base_uri": "https://localhost:8080/"
        },
        "id": "bYBSlBmfrJfd",
        "outputId": "8fe1a9b9-45a2-4d1f-ab0c-6105e6a1af73"
      },
      "execution_count": 36,
      "outputs": [
        {
          "output_type": "execute_result",
          "data": {
            "text/plain": [
              "[('a', 3), ('b', 1)]"
            ]
          },
          "metadata": {},
          "execution_count": 36
        }
      ]
    },
    {
      "cell_type": "code",
      "source": [
        "x = sc.parallelize([(\"MEOW\", 1), (\"BOWWOW\", 1), (\"MEOW\",1)])\n",
        "sorted(x.countByKey().items())"
      ],
      "metadata": {
        "colab": {
          "base_uri": "https://localhost:8080/"
        },
        "id": "l7dO31umr5rG",
        "outputId": "6b53fe74-fd5a-4feb-e4f9-4bd16e7f04f3"
      },
      "execution_count": 37,
      "outputs": [
        {
          "output_type": "execute_result",
          "data": {
            "text/plain": [
              "[('BOWWOW', 1), ('MEOW', 2)]"
            ]
          },
          "metadata": {},
          "execution_count": 37
        }
      ]
    },
    {
      "cell_type": "code",
      "source": [
        "# 예제 1\n",
        "m = sc.parallelize([(1,2),(3,4)]).keys()\n",
        "m.collect()"
      ],
      "metadata": {
        "colab": {
          "base_uri": "https://localhost:8080/"
        },
        "id": "ytSOnP0Kr_jh",
        "outputId": "fa9d60df-a217-48d5-8deb-48614df01ca9"
      },
      "execution_count": 38,
      "outputs": [
        {
          "output_type": "execute_result",
          "data": {
            "text/plain": [
              "[1, 3]"
            ]
          },
          "metadata": {},
          "execution_count": 38
        }
      ]
    },
    {
      "cell_type": "code",
      "source": [
        "# 예제 2\n",
        "x = sc.parallelize([(\"MATH\",7),(\"MATH\",2),(\"ENGLISH\",7),(\"SCIENCE\",7),(\"ENGLISH\",4),(\"ENGLISH\",9),(\"MATH\",8),(\"MATH\",3),(\"ENGLISH\",4),(\"SCIENCE\",6),(\"SCIENCE\",9),(\"SCIENCE\",5)], 3)\n",
        "x.keys().distinct().count()"
      ],
      "metadata": {
        "colab": {
          "base_uri": "https://localhost:8080/"
        },
        "id": "rJFMPiNLsC5F",
        "outputId": "cfd011f6-eeb4-4768-b7ae-2207bcdf9b35"
      },
      "execution_count": 39,
      "outputs": [
        {
          "output_type": "execute_result",
          "data": {
            "text/plain": [
              "3"
            ]
          },
          "metadata": {},
          "execution_count": 39
        }
      ]
    },
    {
      "cell_type": "code",
      "source": [
        "rdd1 = sc.parallelize([(\"fish\",1), (\"kitten\", 2), (\"puppy\", 3)])\n",
        "rdd2 = sc.parallelize([(\"fish\",4), (\"kitten\", 5), (\"kitten\", 6), (\"pet\", 1)])\n",
        "\n",
        "print(rdd1.join(rdd2).collect())\n",
        "print(rdd1.leftOuterJoin(rdd2).collect())\n",
        "print(rdd1.rightOuterJoin(rdd2).collect())"
      ],
      "metadata": {
        "colab": {
          "base_uri": "https://localhost:8080/"
        },
        "id": "YLnNdgJ5sG1J",
        "outputId": "ef8385fe-8e17-4128-fa40-b2a0139a50f0"
      },
      "execution_count": 40,
      "outputs": [
        {
          "output_type": "stream",
          "name": "stdout",
          "text": [
            "[('fish', (1, 4)), ('kitten', (2, 5)), ('kitten', (2, 6))]\n",
            "[('fish', (1, 4)), ('puppy', (3, None)), ('kitten', (2, 5)), ('kitten', (2, 6))]\n",
            "[('fish', (1, 4)), ('kitten', (2, 5)), ('kitten', (2, 6)), ('pet', (None, 1))]\n"
          ]
        }
      ]
    },
    {
      "cell_type": "code",
      "source": [
        "# 사용 후 종료!\n",
        "\n",
        "sc.stop()"
      ],
      "metadata": {
        "id": "kC3Flf--sJz6"
      },
      "execution_count": 41,
      "outputs": []
    },
    {
      "cell_type": "code",
      "source": [],
      "metadata": {
        "id": "n0y18yXYsMYL"
      },
      "execution_count": null,
      "outputs": []
    }
  ]
}